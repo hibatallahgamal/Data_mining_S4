{
  "cells": [
    {
      "cell_type": "markdown",
      "metadata": {
        "id": "view-in-github",
        "colab_type": "text"
      },
      "source": [
        "<a href=\"https://colab.research.google.com/github/hibatallahgamal/DICEGAME/blob/main/IDS_ARTCL.ipynb\" target=\"_parent\"><img src=\"https://colab.research.google.com/assets/colab-badge.svg\" alt=\"Open In Colab\"/></a>"
      ]
    },
    {
      "cell_type": "markdown",
      "id": "ca2f07db",
      "metadata": {
        "id": "ca2f07db"
      },
      "source": [
        "# Simple Application Of KNN On Intrusion Detection"
      ]
    },
    {
      "cell_type": "markdown",
      "id": "a8f033e0",
      "metadata": {
        "id": "a8f033e0"
      },
      "source": [
        "#### First let's start with importing the Data (CICIDS2017 is the dataset we are working on)"
      ]
    },
    {
      "cell_type": "code",
      "execution_count": 2,
      "id": "b7212a84",
      "metadata": {
        "id": "b7212a84"
      },
      "outputs": [],
      "source": [
        "# import pandas to load dataset\n",
        "import pandas as pd\n",
        "df = pd.read_csv('/Friday-WorkingHours-Afternoon-DDos.pcap_ISCX.csv')"
      ]
    },
    {
      "cell_type": "code",
      "execution_count": 4,
      "id": "e4363713",
      "metadata": {
        "colab": {
          "base_uri": "https://localhost:8080/",
          "height": 351
        },
        "id": "e4363713",
        "outputId": "41ac9a36-e74a-4213-ccde-6917f3944359"
      },
      "outputs": [
        {
          "output_type": "execute_result",
          "data": {
            "text/plain": [
              "    Destination Port   Flow Duration   Total Fwd Packets  \\\n",
              "0              54865               3                   2   \n",
              "1              55054             109                   1   \n",
              "2              55055              52                   1   \n",
              "3              46236              34                   1   \n",
              "4              54863               3                   2   \n",
              "\n",
              "    Total Backward Packets  Total Length of Fwd Packets  \\\n",
              "0                        0                           12   \n",
              "1                        1                            6   \n",
              "2                        1                            6   \n",
              "3                        1                            6   \n",
              "4                        0                           12   \n",
              "\n",
              "    Total Length of Bwd Packets   Fwd Packet Length Max  \\\n",
              "0                             0                       6   \n",
              "1                             6                       6   \n",
              "2                             6                       6   \n",
              "3                             6                       6   \n",
              "4                             0                       6   \n",
              "\n",
              "    Fwd Packet Length Min   Fwd Packet Length Mean   Fwd Packet Length Std  \\\n",
              "0                       6                      6.0                     0.0   \n",
              "1                       6                      6.0                     0.0   \n",
              "2                       6                      6.0                     0.0   \n",
              "3                       6                      6.0                     0.0   \n",
              "4                       6                      6.0                     0.0   \n",
              "\n",
              "   ...   min_seg_size_forward  Active Mean   Active Std   Active Max  \\\n",
              "0  ...                   20.0          0.0          0.0          0.0   \n",
              "1  ...                   20.0          0.0          0.0          0.0   \n",
              "2  ...                   20.0          0.0          0.0          0.0   \n",
              "3  ...                   20.0          0.0          0.0          0.0   \n",
              "4  ...                   20.0          0.0          0.0          0.0   \n",
              "\n",
              "    Active Min  Idle Mean   Idle Std   Idle Max   Idle Min   Label  \n",
              "0          0.0        0.0        0.0        0.0        0.0  BENIGN  \n",
              "1          0.0        0.0        0.0        0.0        0.0  BENIGN  \n",
              "2          0.0        0.0        0.0        0.0        0.0  BENIGN  \n",
              "3          0.0        0.0        0.0        0.0        0.0  BENIGN  \n",
              "4          0.0        0.0        0.0        0.0        0.0  BENIGN  \n",
              "\n",
              "[5 rows x 79 columns]"
            ],
            "text/html": [
              "\n",
              "  <div id=\"df-d4a6aa0b-bd5d-402c-be79-3999d013f29b\">\n",
              "    <div class=\"colab-df-container\">\n",
              "      <div>\n",
              "<style scoped>\n",
              "    .dataframe tbody tr th:only-of-type {\n",
              "        vertical-align: middle;\n",
              "    }\n",
              "\n",
              "    .dataframe tbody tr th {\n",
              "        vertical-align: top;\n",
              "    }\n",
              "\n",
              "    .dataframe thead th {\n",
              "        text-align: right;\n",
              "    }\n",
              "</style>\n",
              "<table border=\"1\" class=\"dataframe\">\n",
              "  <thead>\n",
              "    <tr style=\"text-align: right;\">\n",
              "      <th></th>\n",
              "      <th>Destination Port</th>\n",
              "      <th>Flow Duration</th>\n",
              "      <th>Total Fwd Packets</th>\n",
              "      <th>Total Backward Packets</th>\n",
              "      <th>Total Length of Fwd Packets</th>\n",
              "      <th>Total Length of Bwd Packets</th>\n",
              "      <th>Fwd Packet Length Max</th>\n",
              "      <th>Fwd Packet Length Min</th>\n",
              "      <th>Fwd Packet Length Mean</th>\n",
              "      <th>Fwd Packet Length Std</th>\n",
              "      <th>...</th>\n",
              "      <th>min_seg_size_forward</th>\n",
              "      <th>Active Mean</th>\n",
              "      <th>Active Std</th>\n",
              "      <th>Active Max</th>\n",
              "      <th>Active Min</th>\n",
              "      <th>Idle Mean</th>\n",
              "      <th>Idle Std</th>\n",
              "      <th>Idle Max</th>\n",
              "      <th>Idle Min</th>\n",
              "      <th>Label</th>\n",
              "    </tr>\n",
              "  </thead>\n",
              "  <tbody>\n",
              "    <tr>\n",
              "      <th>0</th>\n",
              "      <td>54865</td>\n",
              "      <td>3</td>\n",
              "      <td>2</td>\n",
              "      <td>0</td>\n",
              "      <td>12</td>\n",
              "      <td>0</td>\n",
              "      <td>6</td>\n",
              "      <td>6</td>\n",
              "      <td>6.0</td>\n",
              "      <td>0.0</td>\n",
              "      <td>...</td>\n",
              "      <td>20.0</td>\n",
              "      <td>0.0</td>\n",
              "      <td>0.0</td>\n",
              "      <td>0.0</td>\n",
              "      <td>0.0</td>\n",
              "      <td>0.0</td>\n",
              "      <td>0.0</td>\n",
              "      <td>0.0</td>\n",
              "      <td>0.0</td>\n",
              "      <td>BENIGN</td>\n",
              "    </tr>\n",
              "    <tr>\n",
              "      <th>1</th>\n",
              "      <td>55054</td>\n",
              "      <td>109</td>\n",
              "      <td>1</td>\n",
              "      <td>1</td>\n",
              "      <td>6</td>\n",
              "      <td>6</td>\n",
              "      <td>6</td>\n",
              "      <td>6</td>\n",
              "      <td>6.0</td>\n",
              "      <td>0.0</td>\n",
              "      <td>...</td>\n",
              "      <td>20.0</td>\n",
              "      <td>0.0</td>\n",
              "      <td>0.0</td>\n",
              "      <td>0.0</td>\n",
              "      <td>0.0</td>\n",
              "      <td>0.0</td>\n",
              "      <td>0.0</td>\n",
              "      <td>0.0</td>\n",
              "      <td>0.0</td>\n",
              "      <td>BENIGN</td>\n",
              "    </tr>\n",
              "    <tr>\n",
              "      <th>2</th>\n",
              "      <td>55055</td>\n",
              "      <td>52</td>\n",
              "      <td>1</td>\n",
              "      <td>1</td>\n",
              "      <td>6</td>\n",
              "      <td>6</td>\n",
              "      <td>6</td>\n",
              "      <td>6</td>\n",
              "      <td>6.0</td>\n",
              "      <td>0.0</td>\n",
              "      <td>...</td>\n",
              "      <td>20.0</td>\n",
              "      <td>0.0</td>\n",
              "      <td>0.0</td>\n",
              "      <td>0.0</td>\n",
              "      <td>0.0</td>\n",
              "      <td>0.0</td>\n",
              "      <td>0.0</td>\n",
              "      <td>0.0</td>\n",
              "      <td>0.0</td>\n",
              "      <td>BENIGN</td>\n",
              "    </tr>\n",
              "    <tr>\n",
              "      <th>3</th>\n",
              "      <td>46236</td>\n",
              "      <td>34</td>\n",
              "      <td>1</td>\n",
              "      <td>1</td>\n",
              "      <td>6</td>\n",
              "      <td>6</td>\n",
              "      <td>6</td>\n",
              "      <td>6</td>\n",
              "      <td>6.0</td>\n",
              "      <td>0.0</td>\n",
              "      <td>...</td>\n",
              "      <td>20.0</td>\n",
              "      <td>0.0</td>\n",
              "      <td>0.0</td>\n",
              "      <td>0.0</td>\n",
              "      <td>0.0</td>\n",
              "      <td>0.0</td>\n",
              "      <td>0.0</td>\n",
              "      <td>0.0</td>\n",
              "      <td>0.0</td>\n",
              "      <td>BENIGN</td>\n",
              "    </tr>\n",
              "    <tr>\n",
              "      <th>4</th>\n",
              "      <td>54863</td>\n",
              "      <td>3</td>\n",
              "      <td>2</td>\n",
              "      <td>0</td>\n",
              "      <td>12</td>\n",
              "      <td>0</td>\n",
              "      <td>6</td>\n",
              "      <td>6</td>\n",
              "      <td>6.0</td>\n",
              "      <td>0.0</td>\n",
              "      <td>...</td>\n",
              "      <td>20.0</td>\n",
              "      <td>0.0</td>\n",
              "      <td>0.0</td>\n",
              "      <td>0.0</td>\n",
              "      <td>0.0</td>\n",
              "      <td>0.0</td>\n",
              "      <td>0.0</td>\n",
              "      <td>0.0</td>\n",
              "      <td>0.0</td>\n",
              "      <td>BENIGN</td>\n",
              "    </tr>\n",
              "  </tbody>\n",
              "</table>\n",
              "<p>5 rows × 79 columns</p>\n",
              "</div>\n",
              "      <button class=\"colab-df-convert\" onclick=\"convertToInteractive('df-d4a6aa0b-bd5d-402c-be79-3999d013f29b')\"\n",
              "              title=\"Convert this dataframe to an interactive table.\"\n",
              "              style=\"display:none;\">\n",
              "        \n",
              "  <svg xmlns=\"http://www.w3.org/2000/svg\" height=\"24px\"viewBox=\"0 0 24 24\"\n",
              "       width=\"24px\">\n",
              "    <path d=\"M0 0h24v24H0V0z\" fill=\"none\"/>\n",
              "    <path d=\"M18.56 5.44l.94 2.06.94-2.06 2.06-.94-2.06-.94-.94-2.06-.94 2.06-2.06.94zm-11 1L8.5 8.5l.94-2.06 2.06-.94-2.06-.94L8.5 2.5l-.94 2.06-2.06.94zm10 10l.94 2.06.94-2.06 2.06-.94-2.06-.94-.94-2.06-.94 2.06-2.06.94z\"/><path d=\"M17.41 7.96l-1.37-1.37c-.4-.4-.92-.59-1.43-.59-.52 0-1.04.2-1.43.59L10.3 9.45l-7.72 7.72c-.78.78-.78 2.05 0 2.83L4 21.41c.39.39.9.59 1.41.59.51 0 1.02-.2 1.41-.59l7.78-7.78 2.81-2.81c.8-.78.8-2.07 0-2.86zM5.41 20L4 18.59l7.72-7.72 1.47 1.35L5.41 20z\"/>\n",
              "  </svg>\n",
              "      </button>\n",
              "      \n",
              "  <style>\n",
              "    .colab-df-container {\n",
              "      display:flex;\n",
              "      flex-wrap:wrap;\n",
              "      gap: 12px;\n",
              "    }\n",
              "\n",
              "    .colab-df-convert {\n",
              "      background-color: #E8F0FE;\n",
              "      border: none;\n",
              "      border-radius: 50%;\n",
              "      cursor: pointer;\n",
              "      display: none;\n",
              "      fill: #1967D2;\n",
              "      height: 32px;\n",
              "      padding: 0 0 0 0;\n",
              "      width: 32px;\n",
              "    }\n",
              "\n",
              "    .colab-df-convert:hover {\n",
              "      background-color: #E2EBFA;\n",
              "      box-shadow: 0px 1px 2px rgba(60, 64, 67, 0.3), 0px 1px 3px 1px rgba(60, 64, 67, 0.15);\n",
              "      fill: #174EA6;\n",
              "    }\n",
              "\n",
              "    [theme=dark] .colab-df-convert {\n",
              "      background-color: #3B4455;\n",
              "      fill: #D2E3FC;\n",
              "    }\n",
              "\n",
              "    [theme=dark] .colab-df-convert:hover {\n",
              "      background-color: #434B5C;\n",
              "      box-shadow: 0px 1px 3px 1px rgba(0, 0, 0, 0.15);\n",
              "      filter: drop-shadow(0px 1px 2px rgba(0, 0, 0, 0.3));\n",
              "      fill: #FFFFFF;\n",
              "    }\n",
              "  </style>\n",
              "\n",
              "      <script>\n",
              "        const buttonEl =\n",
              "          document.querySelector('#df-d4a6aa0b-bd5d-402c-be79-3999d013f29b button.colab-df-convert');\n",
              "        buttonEl.style.display =\n",
              "          google.colab.kernel.accessAllowed ? 'block' : 'none';\n",
              "\n",
              "        async function convertToInteractive(key) {\n",
              "          const element = document.querySelector('#df-d4a6aa0b-bd5d-402c-be79-3999d013f29b');\n",
              "          const dataTable =\n",
              "            await google.colab.kernel.invokeFunction('convertToInteractive',\n",
              "                                                     [key], {});\n",
              "          if (!dataTable) return;\n",
              "\n",
              "          const docLinkHtml = 'Like what you see? Visit the ' +\n",
              "            '<a target=\"_blank\" href=https://colab.research.google.com/notebooks/data_table.ipynb>data table notebook</a>'\n",
              "            + ' to learn more about interactive tables.';\n",
              "          element.innerHTML = '';\n",
              "          dataTable['output_type'] = 'display_data';\n",
              "          await google.colab.output.renderOutput(dataTable, element);\n",
              "          const docLink = document.createElement('div');\n",
              "          docLink.innerHTML = docLinkHtml;\n",
              "          element.appendChild(docLink);\n",
              "        }\n",
              "      </script>\n",
              "    </div>\n",
              "  </div>\n",
              "  "
            ]
          },
          "metadata": {},
          "execution_count": 4
        }
      ],
      "source": [
        "# TO show the first 5 line of our data\n",
        "df.head(5)"
      ]
    },
    {
      "cell_type": "code",
      "execution_count": 5,
      "id": "eff2ea56",
      "metadata": {
        "colab": {
          "base_uri": "https://localhost:8080/"
        },
        "id": "eff2ea56",
        "outputId": "63d904b1-7026-4796-d80b-a2c0fe32b4de"
      },
      "outputs": [
        {
          "output_type": "stream",
          "name": "stdout",
          "text": [
            "<class 'pandas.core.frame.DataFrame'>\n",
            "RangeIndex: 20264 entries, 0 to 20263\n",
            "Data columns (total 79 columns):\n",
            " #   Column                        Non-Null Count  Dtype  \n",
            "---  ------                        --------------  -----  \n",
            " 0    Destination Port             20264 non-null  int64  \n",
            " 1    Flow Duration                20264 non-null  int64  \n",
            " 2    Total Fwd Packets            20264 non-null  int64  \n",
            " 3    Total Backward Packets       20264 non-null  int64  \n",
            " 4   Total Length of Fwd Packets   20264 non-null  int64  \n",
            " 5    Total Length of Bwd Packets  20264 non-null  int64  \n",
            " 6    Fwd Packet Length Max        20264 non-null  int64  \n",
            " 7    Fwd Packet Length Min        20264 non-null  int64  \n",
            " 8    Fwd Packet Length Mean       20264 non-null  float64\n",
            " 9    Fwd Packet Length Std        20264 non-null  float64\n",
            " 10  Bwd Packet Length Max         20264 non-null  int64  \n",
            " 11   Bwd Packet Length Min        20264 non-null  int64  \n",
            " 12   Bwd Packet Length Mean       20264 non-null  float64\n",
            " 13   Bwd Packet Length Std        20264 non-null  float64\n",
            " 14  Flow Bytes/s                  20261 non-null  float64\n",
            " 15   Flow Packets/s               20264 non-null  float64\n",
            " 16   Flow IAT Mean                20264 non-null  float64\n",
            " 17   Flow IAT Std                 20264 non-null  float64\n",
            " 18   Flow IAT Max                 20264 non-null  int64  \n",
            " 19   Flow IAT Min                 20264 non-null  int64  \n",
            " 20  Fwd IAT Total                 20264 non-null  int64  \n",
            " 21   Fwd IAT Mean                 20264 non-null  float64\n",
            " 22   Fwd IAT Std                  20264 non-null  float64\n",
            " 23   Fwd IAT Max                  20264 non-null  int64  \n",
            " 24   Fwd IAT Min                  20264 non-null  int64  \n",
            " 25  Bwd IAT Total                 20264 non-null  int64  \n",
            " 26   Bwd IAT Mean                 20264 non-null  float64\n",
            " 27   Bwd IAT Std                  20264 non-null  float64\n",
            " 28   Bwd IAT Max                  20264 non-null  int64  \n",
            " 29   Bwd IAT Min                  20264 non-null  int64  \n",
            " 30  Fwd PSH Flags                 20264 non-null  int64  \n",
            " 31   Bwd PSH Flags                20264 non-null  int64  \n",
            " 32   Fwd URG Flags                20264 non-null  int64  \n",
            " 33   Bwd URG Flags                20264 non-null  int64  \n",
            " 34   Fwd Header Length            20264 non-null  int64  \n",
            " 35   Bwd Header Length            20264 non-null  int64  \n",
            " 36  Fwd Packets/s                 20264 non-null  float64\n",
            " 37   Bwd Packets/s                20264 non-null  float64\n",
            " 38   Min Packet Length            20264 non-null  int64  \n",
            " 39   Max Packet Length            20264 non-null  int64  \n",
            " 40   Packet Length Mean           20264 non-null  float64\n",
            " 41   Packet Length Std            20264 non-null  float64\n",
            " 42   Packet Length Variance       20264 non-null  float64\n",
            " 43  FIN Flag Count                20264 non-null  int64  \n",
            " 44   SYN Flag Count               20264 non-null  int64  \n",
            " 45   RST Flag Count               20264 non-null  int64  \n",
            " 46   PSH Flag Count               20264 non-null  int64  \n",
            " 47   ACK Flag Count               20264 non-null  int64  \n",
            " 48   URG Flag Count               20264 non-null  int64  \n",
            " 49   CWE Flag Count               20264 non-null  int64  \n",
            " 50   ECE Flag Count               20264 non-null  int64  \n",
            " 51   Down/Up Ratio                20264 non-null  int64  \n",
            " 52   Average Packet Size          20264 non-null  float64\n",
            " 53   Avg Fwd Segment Size         20264 non-null  float64\n",
            " 54   Avg Bwd Segment Size         20264 non-null  float64\n",
            " 55   Fwd Header Length.1          20264 non-null  int64  \n",
            " 56  Fwd Avg Bytes/Bulk            20264 non-null  int64  \n",
            " 57   Fwd Avg Packets/Bulk         20264 non-null  int64  \n",
            " 58   Fwd Avg Bulk Rate            20264 non-null  int64  \n",
            " 59   Bwd Avg Bytes/Bulk           20264 non-null  int64  \n",
            " 60   Bwd Avg Packets/Bulk         20264 non-null  int64  \n",
            " 61  Bwd Avg Bulk Rate             20264 non-null  int64  \n",
            " 62  Subflow Fwd Packets           20264 non-null  int64  \n",
            " 63   Subflow Fwd Bytes            20264 non-null  int64  \n",
            " 64   Subflow Bwd Packets          20264 non-null  int64  \n",
            " 65   Subflow Bwd Bytes            20264 non-null  int64  \n",
            " 66  Init_Win_bytes_forward        20263 non-null  float64\n",
            " 67   Init_Win_bytes_backward      20263 non-null  float64\n",
            " 68   act_data_pkt_fwd             20263 non-null  float64\n",
            " 69   min_seg_size_forward         20263 non-null  float64\n",
            " 70  Active Mean                   20263 non-null  float64\n",
            " 71   Active Std                   20263 non-null  float64\n",
            " 72   Active Max                   20263 non-null  float64\n",
            " 73   Active Min                   20263 non-null  float64\n",
            " 74  Idle Mean                     20263 non-null  float64\n",
            " 75   Idle Std                     20263 non-null  float64\n",
            " 76   Idle Max                     20263 non-null  float64\n",
            " 77   Idle Min                     20263 non-null  float64\n",
            " 78   Label                        20263 non-null  object \n",
            "dtypes: float64(32), int64(46), object(1)\n",
            "memory usage: 12.2+ MB\n"
          ]
        }
      ],
      "source": [
        "# Details about our data\n",
        "df.info()"
      ]
    },
    {
      "cell_type": "markdown",
      "id": "defac5d2",
      "metadata": {
        "id": "defac5d2"
      },
      "source": [
        "#### Next , we  analyse our class and the column 'Label' to get more informations about our data "
      ]
    },
    {
      "cell_type": "code",
      "execution_count": 6,
      "id": "3aee0e3b",
      "metadata": {
        "colab": {
          "base_uri": "https://localhost:8080/"
        },
        "id": "3aee0e3b",
        "outputId": "35bf8852-face-4efc-cd2c-d6de1faea5d0"
      },
      "outputs": [
        {
          "output_type": "execute_result",
          "data": {
            "text/plain": [
              "BENIGN    18883\n",
              "DDoS       1380\n",
              "Name:  Label, dtype: int64"
            ]
          },
          "metadata": {},
          "execution_count": 6
        }
      ],
      "source": [
        "# using value_counts method as the best option\n",
        "df[' Label'].value_counts()"
      ]
    },
    {
      "cell_type": "markdown",
      "id": "0312dcc6",
      "metadata": {
        "id": "0312dcc6"
      },
      "source": [
        "#### As we can see our class if based on two options :\n",
        "- DDos (Attaque Packet)\n",
        "- BENIGN (Normal Packet)\n",
        "\n",
        "Now we'll change these values into numerique numbers (1 for DDos and 0 for BENIGN )"
      ]
    },
    {
      "cell_type": "code",
      "execution_count": 7,
      "id": "4e9c6791",
      "metadata": {
        "id": "4e9c6791"
      },
      "outputs": [],
      "source": [
        "from sklearn.metrics import confusion_matrix\n",
        "# replace method in pandas is the best option\n",
        "df[' Label'].replace(['BENIGN' , 'DDoS'] , [0 , 1] , inplace = True)"
      ]
    },
    {
      "cell_type": "code",
      "execution_count": 8,
      "id": "0d72f116",
      "metadata": {
        "colab": {
          "base_uri": "https://localhost:8080/"
        },
        "id": "0d72f116",
        "outputId": "05504b56-4392-4ccf-ced3-02f76322a7b5"
      },
      "outputs": [
        {
          "output_type": "execute_result",
          "data": {
            "text/plain": [
              "0.0    18883\n",
              "1.0     1380\n",
              "Name:  Label, dtype: int64"
            ]
          },
          "metadata": {},
          "execution_count": 8
        }
      ],
      "source": [
        "# let's show the new label to visualize the results\n",
        "df[' Label'].value_counts()"
      ]
    },
    {
      "cell_type": "code",
      "execution_count": 48,
      "id": "25e5a21f",
      "metadata": {
        "colab": {
          "base_uri": "https://localhost:8080/"
        },
        "id": "25e5a21f",
        "outputId": "839d0973-145d-4ec0-f824-84d8f93deb49"
      },
      "outputs": [
        {
          "output_type": "execute_result",
          "data": {
            "text/plain": [
              "<bound method DataFrame.info of         Destination Port   Flow Duration   Total Fwd Packets  \\\n",
              "0                  54865               3                   2   \n",
              "1                  55054             109                   1   \n",
              "2                  55055              52                   1   \n",
              "3                  46236              34                   1   \n",
              "4                  54863               3                   2   \n",
              "...                  ...             ...                 ...   \n",
              "20258                 80        10790747                   4   \n",
              "20259                 80          890773                   3   \n",
              "20260                 80        10751708                   5   \n",
              "20261                 80          848494                   3   \n",
              "20262                 80        10782697                   4   \n",
              "\n",
              "        Total Backward Packets  Total Length of Fwd Packets  \\\n",
              "0                            0                           12   \n",
              "1                            1                            6   \n",
              "2                            1                            6   \n",
              "3                            1                            6   \n",
              "4                            0                           12   \n",
              "...                        ...                          ...   \n",
              "20258                        0                           24   \n",
              "20259                        6                           26   \n",
              "20260                        0                           30   \n",
              "20261                        4                           26   \n",
              "20262                        0                           24   \n",
              "\n",
              "        Total Length of Bwd Packets   Fwd Packet Length Max  \\\n",
              "0                                 0                       6   \n",
              "1                                 6                       6   \n",
              "2                                 6                       6   \n",
              "3                                 6                       6   \n",
              "4                                 0                       6   \n",
              "...                             ...                     ...   \n",
              "20258                             0                       6   \n",
              "20259                         11601                      20   \n",
              "20260                             0                       6   \n",
              "20261                         11601                      20   \n",
              "20262                             0                       6   \n",
              "\n",
              "        Fwd Packet Length Min   Fwd Packet Length Mean  \\\n",
              "0                           6                 6.000000   \n",
              "1                           6                 6.000000   \n",
              "2                           6                 6.000000   \n",
              "3                           6                 6.000000   \n",
              "4                           6                 6.000000   \n",
              "...                       ...                      ...   \n",
              "20258                       6                 6.000000   \n",
              "20259                       0                 8.666667   \n",
              "20260                       6                 6.000000   \n",
              "20261                       0                 8.666667   \n",
              "20262                       6                 6.000000   \n",
              "\n",
              "        Fwd Packet Length Std  ...   min_seg_size_forward  Active Mean  \\\n",
              "0                    0.000000  ...                   20.0          0.0   \n",
              "1                    0.000000  ...                   20.0          0.0   \n",
              "2                    0.000000  ...                   20.0          0.0   \n",
              "3                    0.000000  ...                   20.0          0.0   \n",
              "4                    0.000000  ...                   20.0          0.0   \n",
              "...                       ...  ...                    ...          ...   \n",
              "20258                0.000000  ...                   20.0          4.0   \n",
              "20259               10.263203  ...                   20.0          0.0   \n",
              "20260                0.000000  ...                   20.0       2000.0   \n",
              "20261               10.263203  ...                   20.0          0.0   \n",
              "20262                0.000000  ...                   20.0        760.0   \n",
              "\n",
              "        Active Std   Active Max   Active Min   Idle Mean   Idle Std  \\\n",
              "0              0.0          0.0          0.0         0.0        0.0   \n",
              "1              0.0          0.0          0.0         0.0        0.0   \n",
              "2              0.0          0.0          0.0         0.0        0.0   \n",
              "3              0.0          0.0          0.0         0.0        0.0   \n",
              "4              0.0          0.0          0.0         0.0        0.0   \n",
              "...            ...          ...          ...         ...        ...   \n",
              "20258          0.0          4.0          4.0  10800000.0        0.0   \n",
              "20259          0.0          0.0          0.0         0.0        0.0   \n",
              "20260          0.0       2000.0       2000.0  10700000.0        0.0   \n",
              "20261          0.0          0.0          0.0         0.0        0.0   \n",
              "20262          0.0        760.0        760.0  10800000.0        0.0   \n",
              "\n",
              "         Idle Max    Idle Min   Label  \n",
              "0             0.0         0.0     0.0  \n",
              "1             0.0         0.0     0.0  \n",
              "2             0.0         0.0     0.0  \n",
              "3             0.0         0.0     0.0  \n",
              "4             0.0         0.0     0.0  \n",
              "...           ...         ...     ...  \n",
              "20258  10800000.0  10800000.0     1.0  \n",
              "20259         0.0         0.0     1.0  \n",
              "20260  10700000.0  10700000.0     1.0  \n",
              "20261         0.0         0.0     1.0  \n",
              "20262  10800000.0  10800000.0     1.0  \n",
              "\n",
              "[20260 rows x 79 columns]>"
            ]
          },
          "metadata": {},
          "execution_count": 48
        }
      ],
      "source": [
        "# Now we'll replace NAN values with 0\n",
        "df.replace('NaN',0.0, inplace=True)\n",
        "df.dropna( how='any', inplace=True)\n",
        "df.info\n"
      ]
    },
    {
      "cell_type": "markdown",
      "id": "be156968",
      "metadata": {
        "id": "be156968"
      },
      "source": [
        "#### as we all know in Machine Learning models there are features and targets (which is the label in this part) in datasets.\n",
        " Now the Next step is to specify our X and Y for this dataset"
      ]
    },
    {
      "cell_type": "code",
      "execution_count": 49,
      "id": "85ca6ec0",
      "metadata": {
        "id": "85ca6ec0"
      },
      "outputs": [],
      "source": [
        "# the best option is to transfer this data into numpy arrays to be able to use it\n",
        "import numpy as np\n",
        "X = np.array([[i , j , j , k] for i , j , z , k in zip(df[' Destination Port'].to_list() , df[' Flow Duration'].to_list() , df[' Total Backward Packets'].to_list() , df['Total Length of Fwd Packets'].to_list())])\n",
        "Y = np.array([i for i in df[' Label'].to_list()])"
      ]
    },
    {
      "cell_type": "code",
      "execution_count": 50,
      "id": "e32210d1",
      "metadata": {
        "colab": {
          "base_uri": "https://localhost:8080/"
        },
        "id": "e32210d1",
        "outputId": "91b903a6-d6cd-4bf1-d864-d338f0468e74"
      },
      "outputs": [
        {
          "output_type": "stream",
          "name": "stdout",
          "text": [
            "X for the features :  [   54865        3        3 ... 10782697 10782697       24]\n",
            "Y for the traget   :  [0. 0. 0. ... 1. 1. 1.]\n"
          ]
        }
      ],
      "source": [
        "# lets show our targets and features \n",
        "print(\"X for the features : \",X.reshape(-1))\n",
        "print(\"Y for the traget   : \",Y.reshape(-1))"
      ]
    },
    {
      "cell_type": "markdown",
      "id": "f2fa9209",
      "metadata": {
        "id": "f2fa9209"
      },
      "source": [
        "#### After showing our target and features , it's time to Normalize the data to minimize the calculations to get a better predection rather than working with complicated values"
      ]
    },
    {
      "cell_type": "code",
      "execution_count": 51,
      "id": "ac42a35f",
      "metadata": {
        "id": "ac42a35f"
      },
      "outputs": [],
      "source": [
        "# use the min max scaller in sklearn is the best option in this case\n",
        "from sklearn.preprocessing import MinMaxScaler\n",
        "min_max_scaller  = MinMaxScaler().fit(X)\n",
        "X = min_max_scaller.transform(X)"
      ]
    },
    {
      "cell_type": "code",
      "execution_count": 52,
      "id": "f9a376a9",
      "metadata": {
        "colab": {
          "base_uri": "https://localhost:8080/"
        },
        "id": "f9a376a9",
        "outputId": "f04873cd-c5aa-4afb-e67e-426fbda059d6"
      },
      "outputs": [
        {
          "output_type": "stream",
          "name": "stdout",
          "text": [
            "X after normalisation :  [8.91707840e-01 2.50003940e-08 2.50003940e-08 ... 8.98572243e-02\n",
            " 8.98572243e-02 2.02129093e-04]\n"
          ]
        }
      ],
      "source": [
        "# now we can see our new dataset \n",
        "print(\"X after normalisation : \", X.reshape(-1))"
      ]
    },
    {
      "cell_type": "markdown",
      "id": "fb2d48b5",
      "metadata": {
        "id": "fb2d48b5"
      },
      "source": [
        "#### The visualtion of our data help us see the changes"
      ]
    },
    {
      "cell_type": "code",
      "execution_count": 53,
      "id": "da6e970b",
      "metadata": {
        "colab": {
          "base_uri": "https://localhost:8080/",
          "height": 282
        },
        "id": "da6e970b",
        "outputId": "aab8df65-12d5-47bb-9037-8a02d9cbabc7"
      },
      "outputs": [
        {
          "output_type": "execute_result",
          "data": {
            "text/plain": [
              "<matplotlib.collections.PathCollection at 0x7fda929e7690>"
            ]
          },
          "metadata": {},
          "execution_count": 53
        },
        {
          "output_type": "display_data",
          "data": {
            "text/plain": [
              "<Figure size 432x288 with 1 Axes>"
            ],
            "image/png": "[encoded data removed]"
          },
          "metadata": {
            "needs_background": "light"
          }
        }
      ],
      "source": [
        "df.replace('NaN',0.0, inplace=True)\n",
        "# using matplotlib is really important for a good visualisation\n",
        "import matplotlib.pyplot as plt\n",
        "plt.scatter(X[:,2] , X[:,3] , c = Y)"
      ]
    },
    {
      "cell_type": "markdown",
      "id": "ad5fc433",
      "metadata": {
        "id": "ad5fc433"
      },
      "source": [
        "#### As  in Machine Learning models , we should split our data into a Trainning Set and a Test Set (so we get to use the Test Set for the evaluation of our model's performances at the end)"
      ]
    },
    {
      "cell_type": "code",
      "execution_count": 54,
      "id": "940f38a9",
      "metadata": {
        "id": "940f38a9"
      },
      "outputs": [],
      "source": [
        "# train_test_split is the best method in sklean\n",
        "from sklearn.model_selection import train_test_split\n",
        "X_train, X_test, Y_train, Y_test = train_test_split(X, Y, test_size=0.33, random_state=42)"
      ]
    },
    {
      "cell_type": "code",
      "execution_count": 55,
      "id": "8b634a1c",
      "metadata": {
        "colab": {
          "base_uri": "https://localhost:8080/"
        },
        "id": "8b634a1c",
        "outputId": "ec495091-a422-4065-c9a8-4179db12d6c2"
      },
      "outputs": [
        {
          "output_type": "stream",
          "name": "stdout",
          "text": [
            "X_Train size :  (13574, 4)\n",
            "X_Train size :  (6686, 4)\n"
          ]
        },
        {
          "output_type": "execute_result",
          "data": {
            "text/plain": [
              "array([[7.19997400e-03, 9.92644092e-01, 9.92644092e-01, 1.64903652e-02],\n",
              "       [8.61396437e-04, 1.72502718e-06, 1.72502718e-06, 6.56919553e-04],\n",
              "       [7.19997400e-03, 1.98828133e-04, 1.98828133e-04, 0.00000000e+00],\n",
              "       ...,\n",
              "       [8.99135353e-01, 1.50835710e-06, 1.50835710e-06, 5.05322733e-05],\n",
              "       [8.61396437e-04, 4.09464786e-04, 4.09464786e-04, 5.39010915e-04],\n",
              "       [9.50770381e-01, 1.54169096e-06, 1.54169096e-06, 1.01064547e-04]])"
            ]
          },
          "metadata": {},
          "execution_count": 55
        }
      ],
      "source": [
        "# let's show the shape of our data after the split to make it more clear\n",
        "print(\"X_Train size : \",X_train.shape)\n",
        "print(\"X_Train size : \",X_test.shape)\n",
        "\n",
        "X_train\n"
      ]
    },
    {
      "cell_type": "markdown",
      "id": "68933486",
      "metadata": {
        "id": "68933486"
      },
      "source": [
        "#### Now it's time to create our model.\n",
        "we can implement KNN classifer from sk learn "
      ]
    },
    {
      "cell_type": "code",
      "execution_count": 56,
      "id": "8e5f242d",
      "metadata": {
        "id": "8e5f242d"
      },
      "outputs": [],
      "source": [
        "# implementation of the  KNN classifier as it is our chosen algorithm\n",
        "from sklearn.neighbors import KNeighborsClassifier"
      ]
    },
    {
      "cell_type": "markdown",
      "id": "ed30d4e7",
      "metadata": {
        "id": "ed30d4e7"
      },
      "source": [
        "#### As we know, the choice of the best K (number of neighbours) is the hard part of the process. The solution here is to use different K until we find the right one ."
      ]
    },
    {
      "cell_type": "code",
      "execution_count": 57,
      "id": "e415eada",
      "metadata": {
        "id": "e415eada"
      },
      "outputs": [],
      "source": [
        "# we are going to use accuracy_score to evaluat our model performance\n",
        "from sklearn.metrics import accuracy_score\n",
        "from sklearn.metrics import confusion_matrix"
      ]
    },
    {
      "cell_type": "code",
      "execution_count": 58,
      "id": "ea18c074",
      "metadata": {
        "colab": {
          "base_uri": "https://localhost:8080/"
        },
        "id": "ea18c074",
        "outputId": "1c802670-d307-4704-e3f7-19f109bd14d8"
      },
      "outputs": [
        {
          "output_type": "stream",
          "name": "stdout",
          "text": [
            "For K =  1 The Accuracy  :  0.992820819623093  The Detection Rate :  0.9730337078651685\n",
            "For K =  3 The Accuracy  :  0.9911755907867185  The Detection Rate :  0.9730337078651685\n",
            "For K =  5 The Accuracy  :  0.9880346993718218  The Detection Rate :  0.9483146067415731\n",
            "For K =  7 The Accuracy  :  0.9872868680825606  The Detection Rate :  0.9483146067415731\n",
            "For K =  9 The Accuracy  :  0.9866886030511517  The Detection Rate :  0.952808988764045\n",
            "For K =  11 The Accuracy  :  0.9845946754412205  The Detection Rate :  0.9348314606741573\n"
          ]
        }
      ],
      "source": [
        "# use a loop to make it  easier\n",
        "# let's show our matrix accuracy for a better detection\n",
        "for i in range(1 , 13 , 2):\n",
        "    model    = KNeighborsClassifier(n_neighbors=i)\n",
        "    model.fit(X_train,Y_train)\n",
        "    predect  = model.predict(X_test)\n",
        "    TN, FP, FN, TP = confusion_matrix(Y_test, predect).ravel()\n",
        "    print(\"For K = \" ,i ,\"The Accuracy  : \",accuracy_score(Y_test, predect),\" The Detection Rate : \",TP/(TP+FN))"
      ]
    },
    {
      "cell_type": "markdown",
      "id": "80142075",
      "metadata": {
        "id": "80142075"
      },
      "source": [
        "#### As we can see our model has  good performances when it comes to the detection which means the model is ready to be used with different packets.\n",
        "And here is an example:"
      ]
    },
    {
      "cell_type": "code",
      "execution_count": 59,
      "id": "12242253",
      "metadata": {
        "id": "12242253"
      },
      "outputs": [],
      "source": [
        "data = {\n",
        "    \n",
        "    'packet1': [80,  5985847, 0 , 24],\n",
        "    'packet2': [80, 7554384 , 354 , 6],\n",
        "    'packet3': [55054, 109 , 1 , 6]\n",
        "    \n",
        "}\n",
        "test = pd.DataFrame(pd.DataFrame.from_dict(data, orient='index',  columns=['Destination Port', 'Flow Duration', 'Total Backward Packets' , 'Total Length of Fwd Packets']))"
      ]
    },
    {
      "cell_type": "code",
      "execution_count": 60,
      "id": "5e0db4f2",
      "metadata": {
        "colab": {
          "base_uri": "https://localhost:8080/",
          "height": 143
        },
        "id": "5e0db4f2",
        "outputId": "4583354b-1015-455c-9557-8583711a35ae"
      },
      "outputs": [
        {
          "output_type": "execute_result",
          "data": {
            "text/plain": [
              "         Destination Port  Flow Duration  Total Backward Packets  \\\n",
              "packet1                80        5985847                       0   \n",
              "packet2                80        7554384                     354   \n",
              "packet3             55054            109                       1   \n",
              "\n",
              "         Total Length of Fwd Packets  \n",
              "packet1                           24  \n",
              "packet2                            6  \n",
              "packet3                            6  "
            ],
            "text/html": [
              "\n",
              "  <div id=\"df-ae9b2a28-e38a-4d66-8379-1281f6148125\">\n",
              "    <div class=\"colab-df-container\">\n",
              "      <div>\n",
              "<style scoped>\n",
              "    .dataframe tbody tr th:only-of-type {\n",
              "        vertical-align: middle;\n",
              "    }\n",
              "\n",
              "    .dataframe tbody tr th {\n",
              "        vertical-align: top;\n",
              "    }\n",
              "\n",
              "    .dataframe thead th {\n",
              "        text-align: right;\n",
              "    }\n",
              "</style>\n",
              "<table border=\"1\" class=\"dataframe\">\n",
              "  <thead>\n",
              "    <tr style=\"text-align: right;\">\n",
              "      <th></th>\n",
              "      <th>Destination Port</th>\n",
              "      <th>Flow Duration</th>\n",
              "      <th>Total Backward Packets</th>\n",
              "      <th>Total Length of Fwd Packets</th>\n",
              "    </tr>\n",
              "  </thead>\n",
              "  <tbody>\n",
              "    <tr>\n",
              "      <th>packet1</th>\n",
              "      <td>80</td>\n",
              "      <td>5985847</td>\n",
              "      <td>0</td>\n",
              "      <td>24</td>\n",
              "    </tr>\n",
              "    <tr>\n",
              "      <th>packet2</th>\n",
              "      <td>80</td>\n",
              "      <td>7554384</td>\n",
              "      <td>354</td>\n",
              "      <td>6</td>\n",
              "    </tr>\n",
              "    <tr>\n",
              "      <th>packet3</th>\n",
              "      <td>55054</td>\n",
              "      <td>109</td>\n",
              "      <td>1</td>\n",
              "      <td>6</td>\n",
              "    </tr>\n",
              "  </tbody>\n",
              "</table>\n",
              "</div>\n",
              "      <button class=\"colab-df-convert\" onclick=\"convertToInteractive('df-ae9b2a28-e38a-4d66-8379-1281f6148125')\"\n",
              "              title=\"Convert this dataframe to an interactive table.\"\n",
              "              style=\"display:none;\">\n",
              "        \n",
              "  <svg xmlns=\"http://www.w3.org/2000/svg\" height=\"24px\"viewBox=\"0 0 24 24\"\n",
              "       width=\"24px\">\n",
              "    <path d=\"M0 0h24v24H0V0z\" fill=\"none\"/>\n",
              "    <path d=\"M18.56 5.44l.94 2.06.94-2.06 2.06-.94-2.06-.94-.94-2.06-.94 2.06-2.06.94zm-11 1L8.5 8.5l.94-2.06 2.06-.94-2.06-.94L8.5 2.5l-.94 2.06-2.06.94zm10 10l.94 2.06.94-2.06 2.06-.94-2.06-.94-.94-2.06-.94 2.06-2.06.94z\"/><path d=\"M17.41 7.96l-1.37-1.37c-.4-.4-.92-.59-1.43-.59-.52 0-1.04.2-1.43.59L10.3 9.45l-7.72 7.72c-.78.78-.78 2.05 0 2.83L4 21.41c.39.39.9.59 1.41.59.51 0 1.02-.2 1.41-.59l7.78-7.78 2.81-2.81c.8-.78.8-2.07 0-2.86zM5.41 20L4 18.59l7.72-7.72 1.47 1.35L5.41 20z\"/>\n",
              "  </svg>\n",
              "      </button>\n",
              "      \n",
              "  <style>\n",
              "    .colab-df-container {\n",
              "      display:flex;\n",
              "      flex-wrap:wrap;\n",
              "      gap: 12px;\n",
              "    }\n",
              "\n",
              "    .colab-df-convert {\n",
              "      background-color: #E8F0FE;\n",
              "      border: none;\n",
              "      border-radius: 50%;\n",
              "      cursor: pointer;\n",
              "      display: none;\n",
              "      fill: #1967D2;\n",
              "      height: 32px;\n",
              "      padding: 0 0 0 0;\n",
              "      width: 32px;\n",
              "    }\n",
              "\n",
              "    .colab-df-convert:hover {\n",
              "      background-color: #E2EBFA;\n",
              "      box-shadow: 0px 1px 2px rgba(60, 64, 67, 0.3), 0px 1px 3px 1px rgba(60, 64, 67, 0.15);\n",
              "      fill: #174EA6;\n",
              "    }\n",
              "\n",
              "    [theme=dark] .colab-df-convert {\n",
              "      background-color: #3B4455;\n",
              "      fill: #D2E3FC;\n",
              "    }\n",
              "\n",
              "    [theme=dark] .colab-df-convert:hover {\n",
              "      background-color: #434B5C;\n",
              "      box-shadow: 0px 1px 3px 1px rgba(0, 0, 0, 0.15);\n",
              "      filter: drop-shadow(0px 1px 2px rgba(0, 0, 0, 0.3));\n",
              "      fill: #FFFFFF;\n",
              "    }\n",
              "  </style>\n",
              "\n",
              "      <script>\n",
              "        const buttonEl =\n",
              "          document.querySelector('#df-ae9b2a28-e38a-4d66-8379-1281f6148125 button.colab-df-convert');\n",
              "        buttonEl.style.display =\n",
              "          google.colab.kernel.accessAllowed ? 'block' : 'none';\n",
              "\n",
              "        async function convertToInteractive(key) {\n",
              "          const element = document.querySelector('#df-ae9b2a28-e38a-4d66-8379-1281f6148125');\n",
              "          const dataTable =\n",
              "            await google.colab.kernel.invokeFunction('convertToInteractive',\n",
              "                                                     [key], {});\n",
              "          if (!dataTable) return;\n",
              "\n",
              "          const docLinkHtml = 'Like what you see? Visit the ' +\n",
              "            '<a target=\"_blank\" href=https://colab.research.google.com/notebooks/data_table.ipynb>data table notebook</a>'\n",
              "            + ' to learn more about interactive tables.';\n",
              "          element.innerHTML = '';\n",
              "          dataTable['output_type'] = 'display_data';\n",
              "          await google.colab.output.renderOutput(dataTable, element);\n",
              "          const docLink = document.createElement('div');\n",
              "          docLink.innerHTML = docLinkHtml;\n",
              "          element.appendChild(docLink);\n",
              "        }\n",
              "      </script>\n",
              "    </div>\n",
              "  </div>\n",
              "  "
            ]
          },
          "metadata": {},
          "execution_count": 60
        }
      ],
      "source": [
        "# let's see our new new data\n",
        "test"
      ]
    },
    {
      "cell_type": "code",
      "execution_count": 61,
      "id": "06e69c3d",
      "metadata": {
        "id": "06e69c3d"
      },
      "outputs": [],
      "source": [
        "# let's change it into one numpy array  normalize  it\n",
        "X_new = np.array([[i , j , k , z] for i , j , k , z in zip(test['Destination Port'].to_list() , test['Flow Duration'].to_list() , test['Total Backward Packets'].to_list() , test['Total Length of Fwd Packets'].to_list())])\n",
        "X_new_norml = min_max_scaller.transform(X_new)"
      ]
    },
    {
      "cell_type": "code",
      "execution_count": 62,
      "id": "d5097363",
      "metadata": {
        "colab": {
          "base_uri": "https://localhost:8080/"
        },
        "id": "d5097363",
        "outputId": "c8c61813-39f8-43cb-a9a7-f1405e65400a"
      },
      "outputs": [
        {
          "output_type": "execute_result",
          "data": {
            "text/plain": [
              "array([0., 1., 0.])"
            ]
          },
          "metadata": {},
          "execution_count": 62
        }
      ],
      "source": [
        "# now let's use it in our data\n",
        "new_predect = model.predict(X_new_norml)\n",
        "new_predect"
      ]
    },
    {
      "cell_type": "markdown",
      "id": "169c03fa",
      "metadata": {
        "id": "169c03fa"
      },
      "source": [
        "#### As we can see our model is succefully built and ready to be used."
      ]
    }
  ],
  "metadata": {
    "kernelspec": {
      "display_name": "Python 3.8.5 64-bit",
      "language": "python",
      "name": "python385jvsc74a57bd0916dbcbb3f70747c44a77c7bcd40155683ae19c65e1c03b4aa3499c5328201f1"
    },
    "language_info": {
      "codemirror_mode": {
        "name": "ipython",
        "version": 3
      },
      "file_extension": ".py",
      "mimetype": "text/x-python",
      "name": "python",
      "nbconvert_exporter": "python",
      "pygments_lexer": "ipython3",
      "version": "3.8.10"
    },
    "colab": {
      "name": "IDS_ARTCL.ipynb",
      "provenance": [],
      "collapsed_sections": [],
      "include_colab_link": true
    }
  },
  "nbformat": 4,
  "nbformat_minor": 5
}